{
 "cells": [
  {
   "cell_type": "markdown",
   "metadata": {
    "id": "LC7LRtYLraa8"
   },
   "source": [
    "# Supervised Learning - Foundations: ReCell \n",
    "\n",
    "***Marks: 60***"
   ]
  },
  {
   "cell_type": "markdown",
   "metadata": {
    "id": "RA_GXJwuhmVz"
   },
   "source": [
    "## Context\n",
    "\n",
    "Buying and selling used phones and tablets used to be something that happened on a handful of online marketplace sites. But the used and refurbished device market has grown considerably over the past decade, and a new IDC (International Data Corporation) forecast predicts that the used phone market would be worth \\\\$52.7bn by 2023 with a compound annual growth rate (CAGR) of 13.6% from 2018 to 2023. This growth can be attributed to an uptick in demand for used phones and tablets that offer considerable savings compared with new models.\n",
    "\n",
    "Refurbished and used devices continue to provide cost-effective alternatives to both consumers and businesses that are looking to save money when purchasing one. There are plenty of other benefits associated with the used device market. Used and refurbished devices can be sold with warranties and can also be insured with proof of purchase. Third-party vendors/platforms, such as Verizon, Amazon, etc., provide attractive offers to customers for refurbished devices. Maximizing the longevity of devices through second-hand trade also reduces their environmental impact and helps in recycling and reducing waste. The impact of the COVID-19 outbreak may further boost this segment as consumers cut back on discretionary spending and buy phones and tablets only for immediate needs.\n",
    "\n",
    " \n",
    "## Objective\n",
    "\n",
    "The rising potential of this comparatively under-the-radar market fuels the need for an ML-based solution to develop a dynamic pricing strategy for used and refurbished devices. ReCell, a startup aiming to tap the potential in this market, has hired you as a data scientist. They want you to analyze the data provided and build a linear regression model to predict the price of a used phone/tablet and identify factors that significantly influence it.\n",
    "\n",
    " \n",
    "## Data Description\n",
    "The data contains the different attributes of used/refurbished phones and tablets. The detailed data dictionary is given below.\n",
    "\n",
    "**Data Dictionary**\n",
    "\n",
    "- brand_name: Name of manufacturing brand\n",
    "- os: OS on which the device runs\n",
    "- screen_size: Size of the screen in cm\n",
    "- 4g: Whether 4G is available or not\n",
    "- 5g: Whether 5G is available or not\n",
    "- main_camera_mp: Resolution of the rear camera in megapixels\n",
    "- selfie_camera_mp: Resolution of the front camera in megapixels\n",
    "- int_memory: Amount of internal memory (ROM) in GB\n",
    "- ram: Amount of RAM in GB\n",
    "- battery: Energy capacity of the device battery in mAh\n",
    "- weight: Weight of the device in grams\n",
    "- release_year: Year when the device model was released\n",
    "- days_used: Number of days the used/refurbished device has been used\n",
    "- new_price: Price of a new device of the same model in euros\n",
    "- used_price: Price of the used/refurbished device in euros"
   ]
  },
  {
   "cell_type": "markdown",
   "metadata": {
    "id": "GLmC-0-fDPyI"
   },
   "source": [
    "## Importing necessary libraries and data"
   ]
  },
  {
   "cell_type": "code",
   "execution_count": 2,
   "metadata": {
    "id": "zeF8YaNKDPyK"
   },
   "outputs": [],
   "source": [
    "# Basic package imports\n",
    "import pandas as pd\n",
    "import numpy as np\n",
    "import matplotlib.pyplot as plt\n",
    "import seaborn as sns\n",
    "import warnings\n",
    "warnings.filterwarnings(\"ignore\")"
   ]
  },
  {
   "cell_type": "code",
   "execution_count": 3,
   "metadata": {},
   "outputs": [],
   "source": [
    "# Import Data \n",
    "udd = pd.read_csv('used_device_data.csv')\n",
    "# Create a copy \n",
    "df = udd.copy()"
   ]
  },
  {
   "cell_type": "markdown",
   "metadata": {
    "id": "UvpMDcaaMKtI"
   },
   "source": [
    "## Data Overview\n",
    "\n",
    "- Observations\n",
    "- Sanity checks"
   ]
  },
  {
   "cell_type": "code",
   "execution_count": 3,
   "metadata": {
    "id": "01hJQ7EfMKtK"
   },
   "outputs": [
    {
     "name": "stdout",
     "output_type": "stream",
     "text": [
      "There are 3454 rows and 15 columns.\n"
     ]
    }
   ],
   "source": [
    "# Examine data shape\n",
    "print(f'There are {udd.shape[0]} rows and {udd.shape[1]} columns.')"
   ]
  },
  {
   "cell_type": "code",
   "execution_count": 4,
   "metadata": {},
   "outputs": [
    {
     "data": {
      "text/html": [
       "<div>\n",
       "<style scoped>\n",
       "    .dataframe tbody tr th:only-of-type {\n",
       "        vertical-align: middle;\n",
       "    }\n",
       "\n",
       "    .dataframe tbody tr th {\n",
       "        vertical-align: top;\n",
       "    }\n",
       "\n",
       "    .dataframe thead th {\n",
       "        text-align: right;\n",
       "    }\n",
       "</style>\n",
       "<table border=\"1\" class=\"dataframe\">\n",
       "  <thead>\n",
       "    <tr style=\"text-align: right;\">\n",
       "      <th></th>\n",
       "      <th>brand_name</th>\n",
       "      <th>os</th>\n",
       "      <th>screen_size</th>\n",
       "      <th>4g</th>\n",
       "      <th>5g</th>\n",
       "      <th>main_camera_mp</th>\n",
       "      <th>selfie_camera_mp</th>\n",
       "      <th>int_memory</th>\n",
       "      <th>ram</th>\n",
       "      <th>battery</th>\n",
       "      <th>weight</th>\n",
       "      <th>release_year</th>\n",
       "      <th>days_used</th>\n",
       "      <th>new_price</th>\n",
       "      <th>used_price</th>\n",
       "    </tr>\n",
       "  </thead>\n",
       "  <tbody>\n",
       "    <tr>\n",
       "      <th>866</th>\n",
       "      <td>Others</td>\n",
       "      <td>Android</td>\n",
       "      <td>15.24</td>\n",
       "      <td>no</td>\n",
       "      <td>no</td>\n",
       "      <td>8.00</td>\n",
       "      <td>2.0</td>\n",
       "      <td>16.0</td>\n",
       "      <td>4.00</td>\n",
       "      <td>3000.0</td>\n",
       "      <td>206.0</td>\n",
       "      <td>2014</td>\n",
       "      <td>632</td>\n",
       "      <td>179.61</td>\n",
       "      <td>56.76</td>\n",
       "    </tr>\n",
       "    <tr>\n",
       "      <th>957</th>\n",
       "      <td>Celkon</td>\n",
       "      <td>Android</td>\n",
       "      <td>10.16</td>\n",
       "      <td>no</td>\n",
       "      <td>no</td>\n",
       "      <td>3.15</td>\n",
       "      <td>0.3</td>\n",
       "      <td>512.0</td>\n",
       "      <td>0.25</td>\n",
       "      <td>1400.0</td>\n",
       "      <td>140.0</td>\n",
       "      <td>2013</td>\n",
       "      <td>637</td>\n",
       "      <td>48.65</td>\n",
       "      <td>16.45</td>\n",
       "    </tr>\n",
       "    <tr>\n",
       "      <th>280</th>\n",
       "      <td>Infinix</td>\n",
       "      <td>Android</td>\n",
       "      <td>15.39</td>\n",
       "      <td>yes</td>\n",
       "      <td>no</td>\n",
       "      <td>NaN</td>\n",
       "      <td>8.0</td>\n",
       "      <td>32.0</td>\n",
       "      <td>2.00</td>\n",
       "      <td>5000.0</td>\n",
       "      <td>185.0</td>\n",
       "      <td>2020</td>\n",
       "      <td>329</td>\n",
       "      <td>88.88</td>\n",
       "      <td>79.10</td>\n",
       "    </tr>\n",
       "    <tr>\n",
       "      <th>2150</th>\n",
       "      <td>Oppo</td>\n",
       "      <td>Android</td>\n",
       "      <td>12.83</td>\n",
       "      <td>yes</td>\n",
       "      <td>no</td>\n",
       "      <td>13.00</td>\n",
       "      <td>16.0</td>\n",
       "      <td>64.0</td>\n",
       "      <td>4.00</td>\n",
       "      <td>3200.0</td>\n",
       "      <td>148.0</td>\n",
       "      <td>2017</td>\n",
       "      <td>648</td>\n",
       "      <td>281.30</td>\n",
       "      <td>107.54</td>\n",
       "    </tr>\n",
       "    <tr>\n",
       "      <th>93</th>\n",
       "      <td>LG</td>\n",
       "      <td>Android</td>\n",
       "      <td>15.29</td>\n",
       "      <td>yes</td>\n",
       "      <td>no</td>\n",
       "      <td>13.00</td>\n",
       "      <td>5.0</td>\n",
       "      <td>32.0</td>\n",
       "      <td>3.00</td>\n",
       "      <td>3500.0</td>\n",
       "      <td>179.0</td>\n",
       "      <td>2019</td>\n",
       "      <td>216</td>\n",
       "      <td>200.42</td>\n",
       "      <td>91.62</td>\n",
       "    </tr>\n",
       "    <tr>\n",
       "      <th>1040</th>\n",
       "      <td>Gionee</td>\n",
       "      <td>Android</td>\n",
       "      <td>12.83</td>\n",
       "      <td>yes</td>\n",
       "      <td>no</td>\n",
       "      <td>13.00</td>\n",
       "      <td>8.0</td>\n",
       "      <td>32.0</td>\n",
       "      <td>4.00</td>\n",
       "      <td>3150.0</td>\n",
       "      <td>166.0</td>\n",
       "      <td>2016</td>\n",
       "      <td>970</td>\n",
       "      <td>279.87</td>\n",
       "      <td>104.13</td>\n",
       "    </tr>\n",
       "    <tr>\n",
       "      <th>3170</th>\n",
       "      <td>ZTE</td>\n",
       "      <td>Others</td>\n",
       "      <td>10.16</td>\n",
       "      <td>no</td>\n",
       "      <td>no</td>\n",
       "      <td>3.15</td>\n",
       "      <td>5.0</td>\n",
       "      <td>16.0</td>\n",
       "      <td>4.00</td>\n",
       "      <td>1400.0</td>\n",
       "      <td>125.0</td>\n",
       "      <td>2014</td>\n",
       "      <td>1007</td>\n",
       "      <td>69.71</td>\n",
       "      <td>43.14</td>\n",
       "    </tr>\n",
       "    <tr>\n",
       "      <th>2742</th>\n",
       "      <td>Sony</td>\n",
       "      <td>Android</td>\n",
       "      <td>12.70</td>\n",
       "      <td>yes</td>\n",
       "      <td>no</td>\n",
       "      <td>20.70</td>\n",
       "      <td>2.0</td>\n",
       "      <td>16.0</td>\n",
       "      <td>4.00</td>\n",
       "      <td>3000.0</td>\n",
       "      <td>170.0</td>\n",
       "      <td>2013</td>\n",
       "      <td>1060</td>\n",
       "      <td>330.24</td>\n",
       "      <td>83.33</td>\n",
       "    </tr>\n",
       "    <tr>\n",
       "      <th>102</th>\n",
       "      <td>Meizu</td>\n",
       "      <td>Android</td>\n",
       "      <td>15.29</td>\n",
       "      <td>yes</td>\n",
       "      <td>no</td>\n",
       "      <td>NaN</td>\n",
       "      <td>20.0</td>\n",
       "      <td>128.0</td>\n",
       "      <td>6.00</td>\n",
       "      <td>3600.0</td>\n",
       "      <td>165.0</td>\n",
       "      <td>2019</td>\n",
       "      <td>332</td>\n",
       "      <td>420.17</td>\n",
       "      <td>142.51</td>\n",
       "    </tr>\n",
       "    <tr>\n",
       "      <th>1195</th>\n",
       "      <td>HTC</td>\n",
       "      <td>Android</td>\n",
       "      <td>10.29</td>\n",
       "      <td>no</td>\n",
       "      <td>no</td>\n",
       "      <td>8.00</td>\n",
       "      <td>2.0</td>\n",
       "      <td>32.0</td>\n",
       "      <td>4.00</td>\n",
       "      <td>2000.0</td>\n",
       "      <td>146.0</td>\n",
       "      <td>2015</td>\n",
       "      <td>892</td>\n",
       "      <td>131.50</td>\n",
       "      <td>68.57</td>\n",
       "    </tr>\n",
       "    <tr>\n",
       "      <th>331</th>\n",
       "      <td>Nokia</td>\n",
       "      <td>Android</td>\n",
       "      <td>13.84</td>\n",
       "      <td>yes</td>\n",
       "      <td>no</td>\n",
       "      <td>0.30</td>\n",
       "      <td>5.0</td>\n",
       "      <td>16.0</td>\n",
       "      <td>2.00</td>\n",
       "      <td>3000.0</td>\n",
       "      <td>180.0</td>\n",
       "      <td>2020</td>\n",
       "      <td>260</td>\n",
       "      <td>101.28</td>\n",
       "      <td>53.96</td>\n",
       "    </tr>\n",
       "    <tr>\n",
       "      <th>678</th>\n",
       "      <td>Others</td>\n",
       "      <td>Android</td>\n",
       "      <td>12.75</td>\n",
       "      <td>yes</td>\n",
       "      <td>no</td>\n",
       "      <td>13.00</td>\n",
       "      <td>16.0</td>\n",
       "      <td>128.0</td>\n",
       "      <td>4.00</td>\n",
       "      <td>3000.0</td>\n",
       "      <td>155.0</td>\n",
       "      <td>2017</td>\n",
       "      <td>783</td>\n",
       "      <td>400.11</td>\n",
       "      <td>192.02</td>\n",
       "    </tr>\n",
       "    <tr>\n",
       "      <th>909</th>\n",
       "      <td>Others</td>\n",
       "      <td>Android</td>\n",
       "      <td>12.75</td>\n",
       "      <td>yes</td>\n",
       "      <td>no</td>\n",
       "      <td>12.00</td>\n",
       "      <td>8.0</td>\n",
       "      <td>64.0</td>\n",
       "      <td>4.00</td>\n",
       "      <td>3100.0</td>\n",
       "      <td>165.0</td>\n",
       "      <td>2018</td>\n",
       "      <td>454</td>\n",
       "      <td>189.69</td>\n",
       "      <td>87.58</td>\n",
       "    </tr>\n",
       "    <tr>\n",
       "      <th>2381</th>\n",
       "      <td>Samsung</td>\n",
       "      <td>Android</td>\n",
       "      <td>15.24</td>\n",
       "      <td>yes</td>\n",
       "      <td>no</td>\n",
       "      <td>12.00</td>\n",
       "      <td>8.0</td>\n",
       "      <td>64.0</td>\n",
       "      <td>4.00</td>\n",
       "      <td>3300.0</td>\n",
       "      <td>178.0</td>\n",
       "      <td>2018</td>\n",
       "      <td>504</td>\n",
       "      <td>240.32</td>\n",
       "      <td>125.23</td>\n",
       "    </tr>\n",
       "    <tr>\n",
       "      <th>2956</th>\n",
       "      <td>Xiaomi</td>\n",
       "      <td>Android</td>\n",
       "      <td>16.36</td>\n",
       "      <td>yes</td>\n",
       "      <td>no</td>\n",
       "      <td>12.00</td>\n",
       "      <td>5.0</td>\n",
       "      <td>32.0</td>\n",
       "      <td>4.00</td>\n",
       "      <td>5300.0</td>\n",
       "      <td>211.0</td>\n",
       "      <td>2017</td>\n",
       "      <td>761</td>\n",
       "      <td>200.13</td>\n",
       "      <td>104.97</td>\n",
       "    </tr>\n",
       "    <tr>\n",
       "      <th>516</th>\n",
       "      <td>Alcatel</td>\n",
       "      <td>Others</td>\n",
       "      <td>7.75</td>\n",
       "      <td>no</td>\n",
       "      <td>no</td>\n",
       "      <td>2.00</td>\n",
       "      <td>0.3</td>\n",
       "      <td>512.0</td>\n",
       "      <td>0.25</td>\n",
       "      <td>2820.0</td>\n",
       "      <td>98.0</td>\n",
       "      <td>2015</td>\n",
       "      <td>786</td>\n",
       "      <td>39.58</td>\n",
       "      <td>17.52</td>\n",
       "    </tr>\n",
       "    <tr>\n",
       "      <th>1120</th>\n",
       "      <td>Honor</td>\n",
       "      <td>Android</td>\n",
       "      <td>12.75</td>\n",
       "      <td>yes</td>\n",
       "      <td>no</td>\n",
       "      <td>12.00</td>\n",
       "      <td>8.0</td>\n",
       "      <td>32.0</td>\n",
       "      <td>4.00</td>\n",
       "      <td>3000.0</td>\n",
       "      <td>153.0</td>\n",
       "      <td>2016</td>\n",
       "      <td>1039</td>\n",
       "      <td>258.69</td>\n",
       "      <td>120.36</td>\n",
       "    </tr>\n",
       "    <tr>\n",
       "      <th>535</th>\n",
       "      <td>Alcatel</td>\n",
       "      <td>Android</td>\n",
       "      <td>12.93</td>\n",
       "      <td>yes</td>\n",
       "      <td>no</td>\n",
       "      <td>8.00</td>\n",
       "      <td>2.0</td>\n",
       "      <td>32.0</td>\n",
       "      <td>4.00</td>\n",
       "      <td>3400.0</td>\n",
       "      <td>182.0</td>\n",
       "      <td>2014</td>\n",
       "      <td>578</td>\n",
       "      <td>280.85</td>\n",
       "      <td>114.75</td>\n",
       "    </tr>\n",
       "  </tbody>\n",
       "</table>\n",
       "</div>"
      ],
      "text/plain": [
       "     brand_name       os  screen_size   4g  5g  main_camera_mp  \\\n",
       "866      Others  Android        15.24   no  no            8.00   \n",
       "957      Celkon  Android        10.16   no  no            3.15   \n",
       "280     Infinix  Android        15.39  yes  no             NaN   \n",
       "2150       Oppo  Android        12.83  yes  no           13.00   \n",
       "93           LG  Android        15.29  yes  no           13.00   \n",
       "1040     Gionee  Android        12.83  yes  no           13.00   \n",
       "3170        ZTE   Others        10.16   no  no            3.15   \n",
       "2742       Sony  Android        12.70  yes  no           20.70   \n",
       "102       Meizu  Android        15.29  yes  no             NaN   \n",
       "1195        HTC  Android        10.29   no  no            8.00   \n",
       "331       Nokia  Android        13.84  yes  no            0.30   \n",
       "678      Others  Android        12.75  yes  no           13.00   \n",
       "909      Others  Android        12.75  yes  no           12.00   \n",
       "2381    Samsung  Android        15.24  yes  no           12.00   \n",
       "2956     Xiaomi  Android        16.36  yes  no           12.00   \n",
       "516     Alcatel   Others         7.75   no  no            2.00   \n",
       "1120      Honor  Android        12.75  yes  no           12.00   \n",
       "535     Alcatel  Android        12.93  yes  no            8.00   \n",
       "\n",
       "      selfie_camera_mp  int_memory   ram  battery  weight  release_year  \\\n",
       "866                2.0        16.0  4.00   3000.0   206.0          2014   \n",
       "957                0.3       512.0  0.25   1400.0   140.0          2013   \n",
       "280                8.0        32.0  2.00   5000.0   185.0          2020   \n",
       "2150              16.0        64.0  4.00   3200.0   148.0          2017   \n",
       "93                 5.0        32.0  3.00   3500.0   179.0          2019   \n",
       "1040               8.0        32.0  4.00   3150.0   166.0          2016   \n",
       "3170               5.0        16.0  4.00   1400.0   125.0          2014   \n",
       "2742               2.0        16.0  4.00   3000.0   170.0          2013   \n",
       "102               20.0       128.0  6.00   3600.0   165.0          2019   \n",
       "1195               2.0        32.0  4.00   2000.0   146.0          2015   \n",
       "331                5.0        16.0  2.00   3000.0   180.0          2020   \n",
       "678               16.0       128.0  4.00   3000.0   155.0          2017   \n",
       "909                8.0        64.0  4.00   3100.0   165.0          2018   \n",
       "2381               8.0        64.0  4.00   3300.0   178.0          2018   \n",
       "2956               5.0        32.0  4.00   5300.0   211.0          2017   \n",
       "516                0.3       512.0  0.25   2820.0    98.0          2015   \n",
       "1120               8.0        32.0  4.00   3000.0   153.0          2016   \n",
       "535                2.0        32.0  4.00   3400.0   182.0          2014   \n",
       "\n",
       "      days_used  new_price  used_price  \n",
       "866         632     179.61       56.76  \n",
       "957         637      48.65       16.45  \n",
       "280         329      88.88       79.10  \n",
       "2150        648     281.30      107.54  \n",
       "93          216     200.42       91.62  \n",
       "1040        970     279.87      104.13  \n",
       "3170       1007      69.71       43.14  \n",
       "2742       1060     330.24       83.33  \n",
       "102         332     420.17      142.51  \n",
       "1195        892     131.50       68.57  \n",
       "331         260     101.28       53.96  \n",
       "678         783     400.11      192.02  \n",
       "909         454     189.69       87.58  \n",
       "2381        504     240.32      125.23  \n",
       "2956        761     200.13      104.97  \n",
       "516         786      39.58       17.52  \n",
       "1120       1039     258.69      120.36  \n",
       "535         578     280.85      114.75  "
      ]
     },
     "execution_count": 4,
     "metadata": {},
     "output_type": "execute_result"
    }
   ],
   "source": [
    "# I want to a sample of 18 random rows .5% of the data\n",
    "# using seed to keep the same 18 rows sample over everytime I want to see a new sample \n",
    "#Random sample of rows\n",
    "np.random.seed(1)\n",
    "udd.sample(18)"
   ]
  },
  {
   "cell_type": "code",
   "execution_count": 5,
   "metadata": {},
   "outputs": [
    {
     "name": "stdout",
     "output_type": "stream",
     "text": [
      "<class 'pandas.core.frame.DataFrame'>\n",
      "RangeIndex: 3454 entries, 0 to 3453\n",
      "Data columns (total 15 columns):\n",
      " #   Column            Non-Null Count  Dtype  \n",
      "---  ------            --------------  -----  \n",
      " 0   brand_name        3454 non-null   object \n",
      " 1   os                3454 non-null   object \n",
      " 2   screen_size       3454 non-null   float64\n",
      " 3   4g                3454 non-null   object \n",
      " 4   5g                3454 non-null   object \n",
      " 5   main_camera_mp    3275 non-null   float64\n",
      " 6   selfie_camera_mp  3452 non-null   float64\n",
      " 7   int_memory        3450 non-null   float64\n",
      " 8   ram               3450 non-null   float64\n",
      " 9   battery           3448 non-null   float64\n",
      " 10  weight            3447 non-null   float64\n",
      " 11  release_year      3454 non-null   int64  \n",
      " 12  days_used         3454 non-null   int64  \n",
      " 13  new_price         3454 non-null   float64\n",
      " 14  used_price        3454 non-null   float64\n",
      "dtypes: float64(9), int64(2), object(4)\n",
      "memory usage: 404.9+ KB\n"
     ]
    }
   ],
   "source": [
    "udd.info()"
   ]
  },
  {
   "cell_type": "code",
   "execution_count": 6,
   "metadata": {},
   "outputs": [
    {
     "data": {
      "text/plain": [
       "main_camera_mp      179\n",
       "weight                7\n",
       "battery               6\n",
       "int_memory            4\n",
       "ram                   4\n",
       "selfie_camera_mp      2\n",
       "brand_name            0\n",
       "os                    0\n",
       "screen_size           0\n",
       "4g                    0\n",
       "5g                    0\n",
       "release_year          0\n",
       "days_used             0\n",
       "new_price             0\n",
       "used_price            0\n",
       "dtype: int64"
      ]
     },
     "execution_count": 6,
     "metadata": {},
     "output_type": "execute_result"
    }
   ],
   "source": [
    "# checking for missing values\n",
    "udd.isnull().sum().sort_values(ascending=False)"
   ]
  },
  {
   "cell_type": "code",
   "execution_count": 7,
   "metadata": {},
   "outputs": [
    {
     "data": {
      "text/plain": [
       "0       False\n",
       "1       False\n",
       "2       False\n",
       "3       False\n",
       "4       False\n",
       "        ...  \n",
       "3449    False\n",
       "3450    False\n",
       "3451    False\n",
       "3452    False\n",
       "3453    False\n",
       "Length: 3454, dtype: bool"
      ]
     },
     "execution_count": 7,
     "metadata": {},
     "output_type": "execute_result"
    }
   ],
   "source": [
    "udd.duplicated(keep = False)"
   ]
  },
  {
   "cell_type": "code",
   "execution_count": 8,
   "metadata": {},
   "outputs": [
    {
     "data": {
      "text/plain": [
       "Nokia         39\n",
       "Others        28\n",
       "Samsung       15\n",
       "Alcatel       12\n",
       "BlackBerry    12\n",
       "Celkon        11\n",
       "Micromax       9\n",
       "LG             6\n",
       "Apple          3\n",
       "ZTE            1\n",
       "Acer           1\n",
       "Name: brand_name, dtype: int64"
      ]
     },
     "execution_count": 8,
     "metadata": {},
     "output_type": "execute_result"
    }
   ],
   "source": [
    "udd[udd['os'] == 'Others']['brand_name'].value_counts()"
   ]
  },
  {
   "cell_type": "markdown",
   "metadata": {
    "id": "__7ciGcIDPyk"
   },
   "source": [
    "## Exploratory Data Analysis (EDA)\n",
    "\n",
    "- EDA is an important part of any project involving data.\n",
    "- It is important to investigate and understand the data better before building a model with it.\n",
    "- A few questions have been mentioned below which will help you approach the analysis in the right manner and generate insights from the data.\n",
    "- A thorough analysis of the data, in addition to the questions mentioned below, should be done."
   ]
  },
  {
   "cell_type": "markdown",
   "metadata": {
    "id": "oEyqzdJBb0jU"
   },
   "source": [
    "**Questions**:\n",
    "\n",
    "1. What does the distribution of used device prices look like?\n",
    "2. What percentage of the used device market is dominated by Android devices?\n",
    "3. The amount of RAM is important for the smooth functioning of a device. How does the amount of RAM vary with the brand?\n",
    "4. A large battery often increases a device's weight, making it feel uncomfortable in the hands. How does the weight vary for phones and tablets offering large batteries (more than 4500 mAh)?\n",
    "5. Bigger screens are desirable for entertainment purposes as they offer a better viewing experience. How many phones and tablets are available across different brands with a screen size larger than 6 inches?\n",
    "6. Budget devices nowadays offer great selfie cameras, allowing us to capture our favorite moments with loved ones. What is the distribution of budget devices offering greater than 8MP selfie cameras across brands?\n",
    "7. Which attributes are highly correlated with the price of a used device?"
   ]
  },
  {
   "cell_type": "code",
   "execution_count": 13,
   "metadata": {
    "id": "cN1lyueHttwW"
   },
   "outputs": [
    {
     "data": {
      "text/html": [
       "<div>\n",
       "<style scoped>\n",
       "    .dataframe tbody tr th:only-of-type {\n",
       "        vertical-align: middle;\n",
       "    }\n",
       "\n",
       "    .dataframe tbody tr th {\n",
       "        vertical-align: top;\n",
       "    }\n",
       "\n",
       "    .dataframe thead th {\n",
       "        text-align: right;\n",
       "    }\n",
       "</style>\n",
       "<table border=\"1\" class=\"dataframe\">\n",
       "  <thead>\n",
       "    <tr style=\"text-align: right;\">\n",
       "      <th></th>\n",
       "      <th>count</th>\n",
       "      <th>mean</th>\n",
       "      <th>std</th>\n",
       "      <th>min</th>\n",
       "      <th>25%</th>\n",
       "      <th>50%</th>\n",
       "      <th>75%</th>\n",
       "      <th>max</th>\n",
       "    </tr>\n",
       "  </thead>\n",
       "  <tbody>\n",
       "    <tr>\n",
       "      <th>screen_size</th>\n",
       "      <td>3454.0</td>\n",
       "      <td>13.713115</td>\n",
       "      <td>3.805280</td>\n",
       "      <td>5.08</td>\n",
       "      <td>12.7000</td>\n",
       "      <td>12.830</td>\n",
       "      <td>15.340</td>\n",
       "      <td>30.71</td>\n",
       "    </tr>\n",
       "    <tr>\n",
       "      <th>main_camera_mp</th>\n",
       "      <td>3275.0</td>\n",
       "      <td>9.460208</td>\n",
       "      <td>4.815461</td>\n",
       "      <td>0.08</td>\n",
       "      <td>5.0000</td>\n",
       "      <td>8.000</td>\n",
       "      <td>13.000</td>\n",
       "      <td>48.00</td>\n",
       "    </tr>\n",
       "    <tr>\n",
       "      <th>selfie_camera_mp</th>\n",
       "      <td>3452.0</td>\n",
       "      <td>6.554229</td>\n",
       "      <td>6.970372</td>\n",
       "      <td>0.00</td>\n",
       "      <td>2.0000</td>\n",
       "      <td>5.000</td>\n",
       "      <td>8.000</td>\n",
       "      <td>32.00</td>\n",
       "    </tr>\n",
       "    <tr>\n",
       "      <th>int_memory</th>\n",
       "      <td>3450.0</td>\n",
       "      <td>54.573099</td>\n",
       "      <td>84.972371</td>\n",
       "      <td>0.01</td>\n",
       "      <td>16.0000</td>\n",
       "      <td>32.000</td>\n",
       "      <td>64.000</td>\n",
       "      <td>1024.00</td>\n",
       "    </tr>\n",
       "    <tr>\n",
       "      <th>ram</th>\n",
       "      <td>3450.0</td>\n",
       "      <td>4.036122</td>\n",
       "      <td>1.365105</td>\n",
       "      <td>0.02</td>\n",
       "      <td>4.0000</td>\n",
       "      <td>4.000</td>\n",
       "      <td>4.000</td>\n",
       "      <td>12.00</td>\n",
       "    </tr>\n",
       "    <tr>\n",
       "      <th>battery</th>\n",
       "      <td>3448.0</td>\n",
       "      <td>3133.402697</td>\n",
       "      <td>1299.682844</td>\n",
       "      <td>500.00</td>\n",
       "      <td>2100.0000</td>\n",
       "      <td>3000.000</td>\n",
       "      <td>4000.000</td>\n",
       "      <td>9720.00</td>\n",
       "    </tr>\n",
       "    <tr>\n",
       "      <th>weight</th>\n",
       "      <td>3447.0</td>\n",
       "      <td>182.751871</td>\n",
       "      <td>88.413228</td>\n",
       "      <td>69.00</td>\n",
       "      <td>142.0000</td>\n",
       "      <td>160.000</td>\n",
       "      <td>185.000</td>\n",
       "      <td>855.00</td>\n",
       "    </tr>\n",
       "    <tr>\n",
       "      <th>release_year</th>\n",
       "      <td>3454.0</td>\n",
       "      <td>2015.965258</td>\n",
       "      <td>2.298455</td>\n",
       "      <td>2013.00</td>\n",
       "      <td>2014.0000</td>\n",
       "      <td>2015.500</td>\n",
       "      <td>2018.000</td>\n",
       "      <td>2020.00</td>\n",
       "    </tr>\n",
       "    <tr>\n",
       "      <th>days_used</th>\n",
       "      <td>3454.0</td>\n",
       "      <td>674.869716</td>\n",
       "      <td>248.580166</td>\n",
       "      <td>91.00</td>\n",
       "      <td>533.5000</td>\n",
       "      <td>690.500</td>\n",
       "      <td>868.750</td>\n",
       "      <td>1094.00</td>\n",
       "    </tr>\n",
       "    <tr>\n",
       "      <th>new_price</th>\n",
       "      <td>3454.0</td>\n",
       "      <td>237.038848</td>\n",
       "      <td>194.302782</td>\n",
       "      <td>18.20</td>\n",
       "      <td>120.3425</td>\n",
       "      <td>189.785</td>\n",
       "      <td>291.115</td>\n",
       "      <td>2560.20</td>\n",
       "    </tr>\n",
       "    <tr>\n",
       "      <th>used_price</th>\n",
       "      <td>3454.0</td>\n",
       "      <td>92.302936</td>\n",
       "      <td>54.701648</td>\n",
       "      <td>4.65</td>\n",
       "      <td>56.4825</td>\n",
       "      <td>81.870</td>\n",
       "      <td>116.245</td>\n",
       "      <td>749.52</td>\n",
       "    </tr>\n",
       "  </tbody>\n",
       "</table>\n",
       "</div>"
      ],
      "text/plain": [
       "                   count         mean          std      min        25%  \\\n",
       "screen_size       3454.0    13.713115     3.805280     5.08    12.7000   \n",
       "main_camera_mp    3275.0     9.460208     4.815461     0.08     5.0000   \n",
       "selfie_camera_mp  3452.0     6.554229     6.970372     0.00     2.0000   \n",
       "int_memory        3450.0    54.573099    84.972371     0.01    16.0000   \n",
       "ram               3450.0     4.036122     1.365105     0.02     4.0000   \n",
       "battery           3448.0  3133.402697  1299.682844   500.00  2100.0000   \n",
       "weight            3447.0   182.751871    88.413228    69.00   142.0000   \n",
       "release_year      3454.0  2015.965258     2.298455  2013.00  2014.0000   \n",
       "days_used         3454.0   674.869716   248.580166    91.00   533.5000   \n",
       "new_price         3454.0   237.038848   194.302782    18.20   120.3425   \n",
       "used_price        3454.0    92.302936    54.701648     4.65    56.4825   \n",
       "\n",
       "                       50%       75%      max  \n",
       "screen_size         12.830    15.340    30.71  \n",
       "main_camera_mp       8.000    13.000    48.00  \n",
       "selfie_camera_mp     5.000     8.000    32.00  \n",
       "int_memory          32.000    64.000  1024.00  \n",
       "ram                  4.000     4.000    12.00  \n",
       "battery           3000.000  4000.000  9720.00  \n",
       "weight             160.000   185.000   855.00  \n",
       "release_year      2015.500  2018.000  2020.00  \n",
       "days_used          690.500   868.750  1094.00  \n",
       "new_price          189.785   291.115  2560.20  \n",
       "used_price          81.870   116.245   749.52  "
      ]
     },
     "execution_count": 13,
     "metadata": {},
     "output_type": "execute_result"
    }
   ],
   "source": [
    "udd.describe().T"
   ]
  },
  {
   "cell_type": "code",
   "execution_count": 8,
   "metadata": {},
   "outputs": [
    {
     "data": {
      "text/plain": [
       "<matplotlib.lines.Line2D at 0x1580b0c2a60>"
      ]
     },
     "execution_count": 8,
     "metadata": {},
     "output_type": "execute_result"
    },
    {
     "data": {
      "image/png": "[encoded data removed]",
      "text/plain": [
       "<Figure size 1440x720 with 1 Axes>"
      ]
     },
     "metadata": {
      "needs_background": "light"
     },
     "output_type": "display_data"
    }
   ],
   "source": [
    "plt.figure(figsize=(20,10))\n",
    "sns.distplot(udd.used_price);\n",
    "plt.axvline(udd.used_price.mean(),\n",
    "           color='red',\n",
    "           ls='--')\n",
    "plt.axvline(udd.used_price.median(),\n",
    "           color='green',\n",
    "           ls='-')"
   ]
  },
  {
   "cell_type": "code",
   "execution_count": 17,
   "metadata": {},
   "outputs": [],
   "source": [
    "#Function to create a labeled barplot\n",
    "\n",
    "def labeled_barplot(data, feature, perc=False, n=None):\n",
    "    \"\"\" \n",
    "    Barplot with percentages at the top \n",
    "    \n",
    "    data = dataframe\n",
    "    feature = dataframe column\n",
    "    perc = to display percentages instead of count (default = False)\n",
    "    n: displays the top n category levels (default = None - displays all levels)\n",
    "    \"\"\"\n",
    "    total = len(data[feature]) #length of the column \n",
    "    count = data[feature].nunique()\n",
    "    if n is None:\n",
    "        plt.figure(figsize=(count +1,5))\n",
    "    else:\n",
    "        plt.figure(figsize=(n +1, 5))\n",
    "        \n",
    "    plt.xticks(rotation=90, fontsize=12)\n",
    "    ax = sns.countplot(\n",
    "        data=data,\n",
    "        x=feature,\n",
    "        palette=\"Paired\",\n",
    "        order=data[feature].value_counts().index[:n].sort_values(),\n",
    "    )\n",
    "    \n",
    "    for p in ax.patches:\n",
    "        if perc == True:\n",
    "            label = \"{:.1f}%\".format(\n",
    "            100 * p.get_height()/ total\n",
    "            ) #gives % of the category\n",
    "        else:\n",
    "            label = p.get_height() #gives count of each level\n",
    "        x = p.get_x() + p.get_width() / 2\n",
    "        y = p.get_height() \n",
    "        \n",
    "        ax.annotate(\n",
    "            label,\n",
    "            (x,y),\n",
    "            ha='center',\n",
    "            va='center',\n",
    "            size=12,\n",
    "            xytext=(0,5),\n",
    "            textcoords=\"offset points\",\n",
    "        )\n",
    "        \n",
    "    plt.show()\n",
    "            "
   ]
  },
  {
   "cell_type": "code",
   "execution_count": 22,
   "metadata": {},
   "outputs": [
    {
     "data": {
      "text/plain": [
       "<Figure size 1440x720 with 0 Axes>"
      ]
     },
     "metadata": {},
     "output_type": "display_data"
    },
    {
     "data": {
      "image/png": "[encoded data removed]",
      "text/plain": [
       "<Figure size 360x360 with 1 Axes>"
      ]
     },
     "metadata": {
      "needs_background": "light"
     },
     "output_type": "display_data"
    }
   ],
   "source": [
    "plt.figure(figsize= (20,10))\n",
    "labeled_barplot(udd, 'os', perc=True)"
   ]
  },
  {
   "cell_type": "code",
   "execution_count": 30,
   "metadata": {},
   "outputs": [
    {
     "data": {
      "text/plain": [
       "<AxesSubplot:xlabel='ram', ylabel='brand_name'>"
      ]
     },
     "execution_count": 30,
     "metadata": {},
     "output_type": "execute_result"
    },
    {
     "data": {
      "image/png": "[encoded data removed]",
      "text/plain": [
       "<Figure size 1440x720 with 1 Axes>"
      ]
     },
     "metadata": {
      "needs_background": "light"
     },
     "output_type": "display_data"
    }
   ],
   "source": [
    "plt.figure(figsize= (20,10))\n",
    "sns.swarmplot(data=udd, x = 'ram', y='brand_name', )"
   ]
  },
  {
   "cell_type": "code",
   "execution_count": 34,
   "metadata": {},
   "outputs": [
    {
     "data": {
      "text/plain": [
       "<seaborn.axisgrid.JointGrid at 0x1580dc1e910>"
      ]
     },
     "execution_count": 34,
     "metadata": {},
     "output_type": "execute_result"
    },
    {
     "data": {
      "text/plain": [
       "<Figure size 1440x720 with 0 Axes>"
      ]
     },
     "metadata": {},
     "output_type": "display_data"
    },
    {
     "data": {
      "image/png": "[encoded data removed]",
      "text/plain": [
       "<Figure size 432x432 with 3 Axes>"
      ]
     },
     "metadata": {
      "needs_background": "light"
     },
     "output_type": "display_data"
    }
   ],
   "source": [
    "plt.figure(figsize= (20,10))\n",
    "sns.jointplot(data =udd, x='battery', y='weight')"
   ]
  },
  {
   "cell_type": "markdown",
   "metadata": {
    "id": "pVn5toJ7MKte"
   },
   "source": [
    "## Data Preprocessing\n",
    "\n",
    "- Missing value treatment\n",
    "- Feature engineering (if needed)\n",
    "- Outlier detection and treatment (if needed)\n",
    "- Preparing data for modeling\n",
    "- Any other preprocessing steps (if needed)"
   ]
  },
  {
   "cell_type": "code",
   "execution_count": null,
   "metadata": {
    "id": "zUi6E9EUMKth"
   },
   "outputs": [],
   "source": [
    "udd.loc[udd['brand_name']=='LG','os'] = 'Android'\n",
    "udd.loc[udd['brand_name']=='Samsung', 'os'] = 'Android'\n",
    "udd.loc[udd['brand_name']=='Apple', 'os'] = 'iOS'\n",
    "udd.loc[udd['brand_name']=='Alcatel','os'] = 'Android'\n",
    "udd.loc[udd['brand_name']=='Micromax','os'] = 'Android'"
   ]
  },
  {
   "cell_type": "code",
   "execution_count": null,
   "metadata": {},
   "outputs": [],
   "source": [
    "udd[udd['os'] == 'Others']['brand_name'].value_counts()"
   ]
  },
  {
   "cell_type": "markdown",
   "metadata": {
    "id": "KNzFis7eEaXj"
   },
   "source": [
    "## EDA\n",
    "\n",
    "- It is a good idea to explore the data once again after manipulating it."
   ]
  },
  {
   "cell_type": "code",
   "execution_count": null,
   "metadata": {
    "id": "4lcDTGi9EZ1M"
   },
   "outputs": [],
   "source": []
  },
  {
   "cell_type": "markdown",
   "metadata": {
    "id": "x9Ycp1rkDPzL"
   },
   "source": [
    "## Building a Linear Regression model"
   ]
  },
  {
   "cell_type": "code",
   "execution_count": null,
   "metadata": {
    "id": "ZNRiMg0wMKth"
   },
   "outputs": [],
   "source": []
  },
  {
   "cell_type": "markdown",
   "metadata": {
    "id": "jvoU3F6oMKti"
   },
   "source": [
    "## Model performance evaluation"
   ]
  },
  {
   "cell_type": "code",
   "execution_count": null,
   "metadata": {
    "id": "k3e6gzxdMKti"
   },
   "outputs": [],
   "source": []
  },
  {
   "cell_type": "markdown",
   "metadata": {
    "id": "a9GxSQf-qH8e"
   },
   "source": [
    "## Checking Linear Regression Assumptions\n",
    "\n",
    "- In order to make statistical inferences from a linear regression model, it is important to ensure that the assumptions of linear regression are satisfied."
   ]
  },
  {
   "cell_type": "code",
   "execution_count": null,
   "metadata": {
    "id": "naX-iXItqH-b"
   },
   "outputs": [],
   "source": []
  },
  {
   "cell_type": "markdown",
   "metadata": {
    "id": "jRYSDgFZMKtm"
   },
   "source": [
    "## Final Model Summary"
   ]
  },
  {
   "cell_type": "code",
   "execution_count": null,
   "metadata": {
    "id": "x_Sqvs4TMKtn"
   },
   "outputs": [],
   "source": []
  },
  {
   "cell_type": "markdown",
   "metadata": {
    "id": "2BkZh6eHluZK"
   },
   "source": [
    "## Actionable Insights and Recommendations\n",
    "\n",
    "- "
   ]
  }
 ],
 "metadata": {
  "colab": {
   "collapsed_sections": [],
   "name": "SLF P1 (ReCell) Learner Notebook (Full Code).ipynb",
   "provenance": []
  },
  "kernelspec": {
   "display_name": "Python 3",
   "language": "python",
   "name": "python3"
  },
  "language_info": {
   "codemirror_mode": {
    "name": "ipython",
    "version": 3
   },
   "file_extension": ".py",
   "mimetype": "text/x-python",
   "name": "python",
   "nbconvert_exporter": "python",
   "pygments_lexer": "ipython3",
   "version": "3.8.8"
  }
 },
 "nbformat": 4,
 "nbformat_minor": 1
}
